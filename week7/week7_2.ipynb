{
  "nbformat": 4,
  "nbformat_minor": 0,
  "metadata": {
    "colab": {
      "provenance": [],
      "toc_visible": true
    },
    "kernelspec": {
      "name": "python3",
      "display_name": "Python 3"
    },
    "language_info": {
      "name": "python"
    }
  },
  "cells": [
    {
      "cell_type": "markdown",
      "source": [
        "# 심층 신경망"
      ],
      "metadata": {
        "id": "ec4jRS4EVmzU"
      }
    },
    {
      "cell_type": "markdown",
      "source": [
        "## 2개의 층\n",
        "\n",
        "심층 신경망은 입력층과 출력층 이외에 여러개의 은닉층을 추가한 신경망이다.\n",
        "\n",
        "> 은닉층 (hidden layer)\n",
        "\n",
        "은닉층은 입력층과 출력층 사이에 있는 층을 의미한다.\n",
        "\n",
        "입력층의 뉴런 개수와 출력층의 뉴런 개수는 각각 입력 데이터와 출력 데이터에 의해서 결정된다.\n",
        "\n",
        "하지만 은닉층의 뉴런 개수를 정하는 기준은 존재하지 않으며, 이 개수를 결정하기 위해서는 많은 경험이 필요하다.\n",
        "\n",
        "> 활성화 함수 (activation function)\n",
        "\n",
        "활성화 함수는 출력층의 선형 방정식의 계산 값에 적용하는 함수이다.\n",
        "\n",
        "출력층에 적용하는 활성화 함수로는 분류 문제인 경우 이진 분류는 시그모이드(sigmoid) 함수, 다중 분류는 소프트맥스(softmax) 함수를 사용한다.\n",
        "\n",
        "회귀 문제의 경우는 값을 출력하기 때문에 출력층에 활성화 함수를 적용하지 않는다.\n",
        "\n",
        "은닉층에 적용하는 활성화 함수로는 대표적으로 시그모이드 함수와 렐루(ReLU) 함수가 있다.\n",
        "\n",
        "은닉층에 활성화 함수를 적용하는 이유는 선형 방정식의 결과 값을 그대로 다음 층으로 넘겨주면 다음 층의 계산과 단순히 합쳐지는 선형적인 산술 계산만 수행하기 때문에 아무런 역할이 없는 것과 마찬가지이기 때문이다.\n",
        "\n",
        "따라서 은닉층에 활성화 함수를 적용해서 비선형적으로 변형해 주어야 한다.\n",
        "\n",
        "> 시그모이드 함수 (sigmoid function)\n",
        "\n",
        "은닉층에서 많이 사용하는 활성화 함수로 시그모이드 함수가 있다.\n",
        "\n",
        "$$ f(z)=\\frac{1}{1+e^{-z}} $$\n",
        "\n",
        "시그모이드 함수는 출력층의 출력 $z$를 0과 1사이의 값으로 매핑해준다."
      ],
      "metadata": {
        "id": "MDd1Pek4HHAx"
      }
    },
    {
      "cell_type": "code",
      "source": [
        "from tensorflow import keras\n",
        "(train_input, train_target), (test_input, test_target) = keras.datasets.fashion_mnist.load_data()"
      ],
      "metadata": {
        "id": "CvFfqKd4HJX3",
        "colab": {
          "base_uri": "https://localhost:8080/"
        },
        "outputId": "8f8eec18-279c-4f04-cab0-2caf242a0228"
      },
      "execution_count": null,
      "outputs": [
        {
          "output_type": "stream",
          "name": "stdout",
          "text": [
            "Downloading data from https://storage.googleapis.com/tensorflow/tf-keras-datasets/train-labels-idx1-ubyte.gz\n",
            "29515/29515 [==============================] - 0s 0us/step\n",
            "Downloading data from https://storage.googleapis.com/tensorflow/tf-keras-datasets/train-images-idx3-ubyte.gz\n",
            "26421880/26421880 [==============================] - 0s 0us/step\n",
            "Downloading data from https://storage.googleapis.com/tensorflow/tf-keras-datasets/t10k-labels-idx1-ubyte.gz\n",
            "5148/5148 [==============================] - 0s 0us/step\n",
            "Downloading data from https://storage.googleapis.com/tensorflow/tf-keras-datasets/t10k-images-idx3-ubyte.gz\n",
            "4422102/4422102 [==============================] - 0s 0us/step\n"
          ]
        }
      ]
    },
    {
      "cell_type": "code",
      "source": [
        "from sklearn.model_selection import train_test_split\n",
        "\n",
        "train_scaled = train_input / 255.0\n",
        "train_scaled = train_scaled.reshape(-1, 28*28)\n",
        "train_scaled, val_scaled, train_target, test_target = train_test_split(\n",
        "    train_scaled, train_target, test_size=0.2, random_state=42\n",
        ")"
      ],
      "metadata": {
        "id": "GEeU1_mpHWVK"
      },
      "execution_count": null,
      "outputs": []
    },
    {
      "cell_type": "code",
      "source": [
        "# 시그모이드 활성화 함수를 사용한 은닉층과 소프트맥스 활성화 함수를 사용한 출력층을 생성\n",
        "dense1 = keras.layers.Dense(100, activation=\"sigmoid\", input_shape=(784,)) # hidden layer\n",
        "dense2 = keras.layers.Dense(10, activation=\"softmax\") # output layer"
      ],
      "metadata": {
        "id": "3NzC_QlUH0ua"
      },
      "execution_count": null,
      "outputs": []
    },
    {
      "cell_type": "markdown",
      "source": [
        "## 심층 신경망 만들기\n",
        "\n",
        "> 심층 신경망 (Deep Neural Network, DNN)"
      ],
      "metadata": {
        "id": "8A_20LOKVwce"
      }
    },
    {
      "cell_type": "code",
      "source": [
        "# 위에서 만든 은닉층과 출력층을 추가한 심층 신경망 모델 생성\n",
        "# 출력층은 반드시 마지막으로 추가해야 한다.\n",
        "model = keras.Sequential([dense1, dense2])"
      ],
      "metadata": {
        "id": "fOjo28A2TCwH"
      },
      "execution_count": null,
      "outputs": []
    },
    {
      "cell_type": "code",
      "source": [
        "# 모델의 정보를 출력\n",
        "model.summary()"
      ],
      "metadata": {
        "colab": {
          "base_uri": "https://localhost:8080/"
        },
        "id": "Gy0E8bu6VEgx",
        "outputId": "6e398dc4-a9c3-4e42-838e-50a59d261e91"
      },
      "execution_count": null,
      "outputs": [
        {
          "output_type": "stream",
          "name": "stdout",
          "text": [
            "Model: \"sequential\"\n",
            "_________________________________________________________________\n",
            " Layer (type)                Output Shape              Param #   \n",
            "=================================================================\n",
            " dense (Dense)               (None, 100)               78500     \n",
            "                                                                 \n",
            " dense_1 (Dense)             (None, 10)                1010      \n",
            "                                                                 \n",
            "=================================================================\n",
            "Total params: 79,510\n",
            "Trainable params: 79,510\n",
            "Non-trainable params: 0\n",
            "_________________________________________________________________\n"
          ]
        }
      ]
    },
    {
      "cell_type": "markdown",
      "source": [
        "## 층을 추가하는 다른 방법"
      ],
      "metadata": {
        "id": "qa-bkzKPV4u-"
      }
    },
    {
      "cell_type": "code",
      "source": [
        "model = keras.Sequential([\n",
        "    keras.layers.Dense(100, activation=\"sigmoid\", input_shape=(784,), name=\"hidden\"),\n",
        "    keras.layers.Dense(10, activation=\"softmax\", name=\"output\")\n",
        "], name=\"패션 MNIST 모델\")"
      ],
      "metadata": {
        "id": "7OlquHZ3VPXx"
      },
      "execution_count": null,
      "outputs": []
    },
    {
      "cell_type": "code",
      "source": [
        "model.summary()"
      ],
      "metadata": {
        "colab": {
          "base_uri": "https://localhost:8080/"
        },
        "id": "s9q7u5PkXFx5",
        "outputId": "89a0087a-f0ac-49a6-c6ca-b0ffdda103ff"
      },
      "execution_count": null,
      "outputs": [
        {
          "output_type": "stream",
          "name": "stdout",
          "text": [
            "Model: \"sequential_1\"\n",
            "_________________________________________________________________\n",
            " Layer (type)                Output Shape              Param #   \n",
            "=================================================================\n",
            " hidden (Dense)              (None, 100)               78500     \n",
            "                                                                 \n",
            " output (Dense)              (None, 10)                1010      \n",
            "                                                                 \n",
            "=================================================================\n",
            "Total params: 79,510\n",
            "Trainable params: 79,510\n",
            "Non-trainable params: 0\n",
            "_________________________________________________________________\n"
          ]
        }
      ]
    },
    {
      "cell_type": "code",
      "source": [
        "model = keras.Sequential()\n",
        "model.add(keras.layers.Dense(100, activation=\"sigmoid\", input_shape=(784,)))\n",
        "model.add(keras.layers.Dense(10, activation=\"softmax\"))"
      ],
      "metadata": {
        "id": "-kw84ccOeUCU"
      },
      "execution_count": null,
      "outputs": []
    },
    {
      "cell_type": "code",
      "source": [
        "model.summary()"
      ],
      "metadata": {
        "colab": {
          "base_uri": "https://localhost:8080/"
        },
        "id": "rtqg2xd4eozS",
        "outputId": "e2509e67-24eb-4d2b-ec6d-c08fe049d82e"
      },
      "execution_count": null,
      "outputs": [
        {
          "output_type": "stream",
          "name": "stdout",
          "text": [
            "Model: \"sequential_2\"\n",
            "_________________________________________________________________\n",
            " Layer (type)                Output Shape              Param #   \n",
            "=================================================================\n",
            " dense_2 (Dense)             (None, 100)               78500     \n",
            "                                                                 \n",
            " dense_3 (Dense)             (None, 10)                1010      \n",
            "                                                                 \n",
            "=================================================================\n",
            "Total params: 79,510\n",
            "Trainable params: 79,510\n",
            "Non-trainable params: 0\n",
            "_________________________________________________________________\n"
          ]
        }
      ]
    },
    {
      "cell_type": "code",
      "source": [
        "model.compile(loss=\"sparse_categorical_crossentropy\", metrics=\"accuracy\")\n",
        "model.fit(train_scaled, train_target, epochs=5)"
      ],
      "metadata": {
        "colab": {
          "base_uri": "https://localhost:8080/"
        },
        "id": "NGybAUDoXKR2",
        "outputId": "e8a1f923-ec16-43d7-c6c5-9138bd25936d"
      },
      "execution_count": null,
      "outputs": [
        {
          "output_type": "stream",
          "name": "stdout",
          "text": [
            "Epoch 1/5\n",
            "1500/1500 [==============================] - 7s 4ms/step - loss: 0.5642 - accuracy: 0.8085\n",
            "Epoch 2/5\n",
            "1500/1500 [==============================] - 6s 4ms/step - loss: 0.4096 - accuracy: 0.8522\n",
            "Epoch 3/5\n",
            "1500/1500 [==============================] - 7s 4ms/step - loss: 0.3735 - accuracy: 0.8646\n",
            "Epoch 4/5\n",
            "1500/1500 [==============================] - 7s 5ms/step - loss: 0.3501 - accuracy: 0.8736\n",
            "Epoch 5/5\n",
            "1500/1500 [==============================] - 6s 4ms/step - loss: 0.3344 - accuracy: 0.8795\n"
          ]
        },
        {
          "output_type": "execute_result",
          "data": {
            "text/plain": [
              "<keras.callbacks.History at 0x7fb08ebfa7f0>"
            ]
          },
          "metadata": {},
          "execution_count": 9
        }
      ]
    },
    {
      "cell_type": "markdown",
      "source": [
        "## 렐루 함수\n",
        "\n",
        "> 렐루 함수 (ReLU function)\n",
        "\n",
        "은닉층에 적용하는 대표적인 활성화 함수로 렐루 함수가 있다.\n",
        "\n",
        "렐루 함수는 입력 값이 0보다 크면 그대로 출력하고, 0보다 작으면 0을 출력하는 특징이 있다.\n",
        "\n",
        "$$ f(z)=max(0,z) $$\n",
        "\n",
        "렐루 함수는 특히 이미지 처리에서 좋은 성능을 낸다고 알려져 있다.\n",
        "\n",
        "> Flatten\n",
        "\n",
        "케라스에서는 Flatten 층을 제공한다.\n",
        "\n",
        "Flatten 층은 배치 차원을 제외하고 입력 데이터를 단순히 일렬로 펼쳐주는 역할을 한다.\n",
        "\n",
        "reshape() 메서드로 입력 데이터를 직접 펼칠 필요 없이 Flatten 층을 사용하면 input_shape 매개변수를 통해서 입력 데이터의 차원을 짐작할 수 있는 장점이 있다.\n",
        "\n",
        "Flatten 층은 학습하는 층이 아니므로 매개변수 개수가 없다."
      ],
      "metadata": {
        "id": "6f1hJonaV8-0"
      }
    },
    {
      "cell_type": "code",
      "source": [
        "model = keras.Sequential()\n",
        "model.add(keras.layers.Flatten(input_shape=(28, 28)))\n",
        "model.add(keras.layers.Dense(100, activation=\"relu\"))\n",
        "model.add(keras.layers.Dense(10, activation=\"softmax\"))"
      ],
      "metadata": {
        "id": "699t1zTaXhRV"
      },
      "execution_count": null,
      "outputs": []
    },
    {
      "cell_type": "code",
      "source": [
        "model.summary()"
      ],
      "metadata": {
        "colab": {
          "base_uri": "https://localhost:8080/"
        },
        "id": "NelDaa-miEYB",
        "outputId": "0df74a32-dd05-4f13-ac75-de86a23ef51f"
      },
      "execution_count": null,
      "outputs": [
        {
          "output_type": "stream",
          "name": "stdout",
          "text": [
            "Model: \"sequential_7\"\n",
            "_________________________________________________________________\n",
            " Layer (type)                Output Shape              Param #   \n",
            "=================================================================\n",
            " flatten_3 (Flatten)         (None, 784)               0         \n",
            "                                                                 \n",
            " dense_7 (Dense)             (None, 100)               78500     \n",
            "                                                                 \n",
            " dense_8 (Dense)             (None, 10)                1010      \n",
            "                                                                 \n",
            "=================================================================\n",
            "Total params: 79,510\n",
            "Trainable params: 79,510\n",
            "Non-trainable params: 0\n",
            "_________________________________________________________________\n"
          ]
        }
      ]
    },
    {
      "cell_type": "code",
      "source": [
        "(train_input, train_target), (test_input, test_target) = keras.datasets.fashion_mnist.load_data()\n",
        "train_scaled = train_input / 255.0\n",
        "train_scaled, val_scaled, train_target, val_target = train_test_split(\n",
        "    train_scaled, train_target, test_size=0.2, random_state=42\n",
        ")"
      ],
      "metadata": {
        "id": "afqhCDlfiJa1"
      },
      "execution_count": null,
      "outputs": []
    },
    {
      "cell_type": "code",
      "source": [
        "model.compile(loss=\"sparse_categorical_crossentropy\", metrics=\"accuracy\")\n",
        "model.fit(train_scaled, train_target, epochs=5)"
      ],
      "metadata": {
        "colab": {
          "base_uri": "https://localhost:8080/"
        },
        "id": "1F3eHat2i0J-",
        "outputId": "e63d13fb-ee41-4a27-d883-ea8e978b9632"
      },
      "execution_count": null,
      "outputs": [
        {
          "output_type": "stream",
          "name": "stdout",
          "text": [
            "Epoch 1/5\n",
            "1500/1500 [==============================] - 5s 3ms/step - loss: 0.5253 - accuracy: 0.8135\n",
            "Epoch 2/5\n",
            "1500/1500 [==============================] - 5s 3ms/step - loss: 0.3886 - accuracy: 0.8600\n",
            "Epoch 3/5\n",
            "1500/1500 [==============================] - 5s 3ms/step - loss: 0.3541 - accuracy: 0.8742\n",
            "Epoch 4/5\n",
            "1500/1500 [==============================] - 5s 3ms/step - loss: 0.3325 - accuracy: 0.8819\n",
            "Epoch 5/5\n",
            "1500/1500 [==============================] - 5s 3ms/step - loss: 0.3192 - accuracy: 0.8877\n"
          ]
        },
        {
          "output_type": "execute_result",
          "data": {
            "text/plain": [
              "<keras.callbacks.History at 0x7f1eba6e4c10>"
            ]
          },
          "metadata": {},
          "execution_count": 29
        }
      ]
    },
    {
      "cell_type": "code",
      "source": [
        "model.evaluate(val_scaled, val_target)"
      ],
      "metadata": {
        "colab": {
          "base_uri": "https://localhost:8080/"
        },
        "id": "fjghH16bjLGI",
        "outputId": "5a88c228-cfe6-411c-d71b-f7d4d6791296"
      },
      "execution_count": null,
      "outputs": [
        {
          "output_type": "stream",
          "name": "stdout",
          "text": [
            "375/375 [==============================] - 1s 2ms/step - loss: 0.3677 - accuracy: 0.8776\n"
          ]
        },
        {
          "output_type": "execute_result",
          "data": {
            "text/plain": [
              "[0.367693692445755, 0.8775833249092102]"
            ]
          },
          "metadata": {},
          "execution_count": 30
        }
      ]
    },
    {
      "cell_type": "markdown",
      "source": [
        "## 옵티마이저\n",
        "\n",
        "신경망 모델에는 지정해야 할 하이퍼파라미터의 종류가 매우 많다.\n",
        "\n",
        "옵티마이저는 지정해 주어야하는 많은 하이퍼파라미터 중 하나이다.\n",
        "\n",
        "compile() 메서드의 optimizer 매개변수를 통해서 지정할 수 있다.\n",
        "\n",
        "케라스는 기본적으로 미니배치 경사 하강법을 사용하며 미니배치 개수는 32개이다.\n",
        "\n",
        "fit() 메서드의 batch_size 매개변수를 통해서 미니배치 개수를 지정할 수 있다.\n",
        "\n",
        "케라스의 compile() 메서드는 optimizer 매개변수의 기본 값으로 'rmsprop'를 사용한다.\n",
        "\n",
        "케라스는 keras.optimizer 패키지에 다양한 옵티마이저 클래스를 제공한다.\n",
        "\n",
        "> 기본 경사 하강법 옵티마이저\n",
        "\n",
        "* SGD 클래스로 기본 경사 하강법 옵티마이저를 사용할 수 있다.\n",
        "* SGD 클래스의 momentum 매개변수를 0보다 큰 값으로 지정하면 모멘텀 최적화를 사용할 수 있다.\n",
        "* SGD 클래스의 nesterov 매개변수를 True로 지정하면 네스테로프 모멘텀 최적화를 사용할 수 있다.\n",
        "\n",
        "> 적응적 학습률 옵티마이저\n",
        "\n",
        "* RMSprop\n",
        "* Adagrad\n",
        "* Adam\n",
        "\n",
        "최적점에 가까워질수록 학습률을 작게 만드는 것을 적응적 학습률이라고 한다.\n",
        "\n",
        "적응적 학습률을 사용하는 대표적인 옵티마이저로 RMSprop와 Adagrad가 있다.\n",
        "\n",
        "또한 모멘텀 최적화와 RMSprop 옵티마이저의 장점을 접목한 Adam 옵티마이저가 있다.\n"
      ],
      "metadata": {
        "id": "qhiKbJ42mVBw"
      }
    },
    {
      "cell_type": "code",
      "source": [
        "model = keras.Sequential()\n",
        "model.add(keras.layers.Flatten(input_shape=(28, 28)))\n",
        "model.add(keras.layers.Dense(100, activation=\"relu\"))\n",
        "model.add(keras.layers.Dense(10, activation=\"softmax\"))"
      ],
      "metadata": {
        "id": "FB84ARryjwHh"
      },
      "execution_count": null,
      "outputs": []
    },
    {
      "cell_type": "code",
      "source": [
        "# Adam 옵티마이저를 지정\n",
        "model.compile(optimizer=\"adam\", loss=\"sparse_categorical_crossentropy\", metrics=\"accuracy\")\n",
        "model.fit(train_scaled, train_target, epochs=5)"
      ],
      "metadata": {
        "colab": {
          "base_uri": "https://localhost:8080/"
        },
        "id": "RXfKGrfnl9ib",
        "outputId": "85078aed-bf70-4d0a-876e-3eae4d4b09e0"
      },
      "execution_count": null,
      "outputs": [
        {
          "output_type": "stream",
          "name": "stdout",
          "text": [
            "Epoch 1/5\n",
            "1500/1500 [==============================] - 6s 4ms/step - loss: 0.3877 - accuracy: 0.8606\n",
            "Epoch 2/5\n",
            "1500/1500 [==============================] - 5s 3ms/step - loss: 0.3474 - accuracy: 0.8746\n",
            "Epoch 3/5\n",
            "1500/1500 [==============================] - 5s 4ms/step - loss: 0.3201 - accuracy: 0.8829\n",
            "Epoch 4/5\n",
            "1500/1500 [==============================] - 8s 5ms/step - loss: 0.3013 - accuracy: 0.8883\n",
            "Epoch 5/5\n",
            "1500/1500 [==============================] - 6s 4ms/step - loss: 0.2884 - accuracy: 0.8933\n"
          ]
        },
        {
          "output_type": "execute_result",
          "data": {
            "text/plain": [
              "<keras.callbacks.History at 0x7f1eb9b22430>"
            ]
          },
          "metadata": {},
          "execution_count": 33
        }
      ]
    },
    {
      "cell_type": "code",
      "source": [
        "model.evaluate(val_scaled, val_target)"
      ],
      "metadata": {
        "colab": {
          "base_uri": "https://localhost:8080/"
        },
        "id": "hghAzEgEmMKm",
        "outputId": "095cee3a-e04d-45eb-a8c6-979de9d89474"
      },
      "execution_count": null,
      "outputs": [
        {
          "output_type": "stream",
          "name": "stdout",
          "text": [
            "375/375 [==============================] - 1s 3ms/step - loss: 0.3446 - accuracy: 0.8756\n"
          ]
        },
        {
          "output_type": "execute_result",
          "data": {
            "text/plain": [
              "[0.34464991092681885, 0.8755833506584167]"
            ]
          },
          "metadata": {},
          "execution_count": 34
        }
      ]
    }
  ]
}