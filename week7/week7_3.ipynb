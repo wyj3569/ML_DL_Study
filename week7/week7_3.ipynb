{
  "nbformat": 4,
  "nbformat_minor": 0,
  "metadata": {
    "colab": {
      "provenance": [],
      "toc_visible": true
    },
    "kernelspec": {
      "name": "python3",
      "display_name": "Python 3"
    },
    "language_info": {
      "name": "python"
    },
    "accelerator": "GPU",
    "gpuClass": "standard"
  },
  "cells": [
    {
      "cell_type": "markdown",
      "source": [
        "# 신경망 모델 훈련"
      ],
      "metadata": {
        "id": "wR6EqoDXoVYa"
      }
    },
    {
      "cell_type": "markdown",
      "source": [
        "## 손실 곡선\n",
        "\n",
        "> History 클래스 객체\n",
        "\n",
        "인공 신경망 모델은 손실 함수를 최적화한다.\n",
        "\n",
        "따라서 인공 신경망 모델을 평가할 때는 정확도와 손실을 함께 확인해야 한다.\n",
        "\n",
        "케라스의 신경망 모델을 학습하는 fit() 메서드를 실행하면 History 클래스 객체를 반환한다.\n",
        "\n",
        "해당 객체에는 history 딕셔너리가 존재하는데, 이 딕셔너리는 훈련 세트에 대한 정확도와 손실을 가지고 있다.\n",
        "\n",
        "이 값들을 이용해서 인공 신경망 모델의 epoch 진행 횟수마다 훈련 세트에 대한 정확도와 손실을 확인할 수 있다."
      ],
      "metadata": {
        "id": "8075CDBroXgD"
      }
    },
    {
      "cell_type": "code",
      "source": [
        "from tensorflow import keras"
      ],
      "metadata": {
        "id": "zzeidnKwoaMe"
      },
      "execution_count": null,
      "outputs": []
    },
    {
      "cell_type": "code",
      "source": [
        "# 패션 mnist 데이터 셋 불러오기\n",
        "(train_input, train_target), (test_input, test_target) = keras.datasets.fashion_mnist.load_data()"
      ],
      "metadata": {
        "colab": {
          "base_uri": "https://localhost:8080/"
        },
        "id": "qsyYdnPzpZT6",
        "outputId": "90132eba-d199-4237-fe04-dfdc875a121b"
      },
      "execution_count": null,
      "outputs": [
        {
          "output_type": "stream",
          "name": "stdout",
          "text": [
            "Downloading data from https://storage.googleapis.com/tensorflow/tf-keras-datasets/train-labels-idx1-ubyte.gz\n",
            "29515/29515 [==============================] - 0s 0us/step\n",
            "Downloading data from https://storage.googleapis.com/tensorflow/tf-keras-datasets/train-images-idx3-ubyte.gz\n",
            "26421880/26421880 [==============================] - 0s 0us/step\n",
            "Downloading data from https://storage.googleapis.com/tensorflow/tf-keras-datasets/t10k-labels-idx1-ubyte.gz\n",
            "5148/5148 [==============================] - 0s 0us/step\n",
            "Downloading data from https://storage.googleapis.com/tensorflow/tf-keras-datasets/t10k-images-idx3-ubyte.gz\n",
            "4422102/4422102 [==============================] - 0s 0us/step\n"
          ]
        }
      ]
    },
    {
      "cell_type": "code",
      "source": [
        "# 전처리\n",
        "train_scaled = train_input / 255.0"
      ],
      "metadata": {
        "id": "EqS1pCnyp2Cq"
      },
      "execution_count": null,
      "outputs": []
    },
    {
      "cell_type": "code",
      "source": [
        "# 훈련 세트로 검증 세트를 만들기\n",
        "from sklearn.model_selection import train_test_split\n",
        "\n",
        "train_scaled, val_scaled, train_target, val_target = train_test_split(\n",
        "    train_scaled, train_target, test_size=0.2, random_state=42\n",
        ")"
      ],
      "metadata": {
        "id": "kBadP7yIpiz_"
      },
      "execution_count": null,
      "outputs": []
    },
    {
      "cell_type": "code",
      "source": [
        "# 인공 신경망 모델을 반환하는 함수를 정의\n",
        "def model_fn(a_layer=None):\n",
        "    model = keras.Sequential()\n",
        "    model.add(keras.layers.Flatten(input_shape=(28, 28)))\n",
        "    model.add(keras.layers.Dense(100, activation=\"relu\")) # hidden layer\n",
        "    if a_layer:\n",
        "        model.add(a_layer)\n",
        "    model.add(keras.layers.Dense(10, activation=\"softmax\")) # output layer\n",
        "    return model"
      ],
      "metadata": {
        "id": "8aHrdaLCqCEg"
      },
      "execution_count": null,
      "outputs": []
    },
    {
      "cell_type": "code",
      "source": [
        "model = model_fn()\n",
        "model.summary()"
      ],
      "metadata": {
        "colab": {
          "base_uri": "https://localhost:8080/"
        },
        "id": "ePNzFgHaqwjW",
        "outputId": "d8fb81f4-36d9-4820-dbc0-d6b2d5b8489f"
      },
      "execution_count": null,
      "outputs": [
        {
          "output_type": "stream",
          "name": "stdout",
          "text": [
            "Model: \"sequential\"\n",
            "_________________________________________________________________\n",
            " Layer (type)                Output Shape              Param #   \n",
            "=================================================================\n",
            " flatten (Flatten)           (None, 784)               0         \n",
            "                                                                 \n",
            " dense (Dense)               (None, 100)               78500     \n",
            "                                                                 \n",
            " dense_1 (Dense)             (None, 10)                1010      \n",
            "                                                                 \n",
            "=================================================================\n",
            "Total params: 79,510\n",
            "Trainable params: 79,510\n",
            "Non-trainable params: 0\n",
            "_________________________________________________________________\n"
          ]
        }
      ]
    },
    {
      "cell_type": "code",
      "source": [
        "model.compile(loss=\"sparse_categorical_crossentropy\", metrics=\"accuracy\")\n",
        "history = model.fit(train_scaled, train_target, epochs=5, verbose=0) # fit() 메서드가 반환하는 History 클래스 객체"
      ],
      "metadata": {
        "id": "tM3Y9hDHq4zB"
      },
      "execution_count": null,
      "outputs": []
    },
    {
      "cell_type": "code",
      "source": [
        "print(history.history.keys())"
      ],
      "metadata": {
        "colab": {
          "base_uri": "https://localhost:8080/"
        },
        "id": "dCCroo0hrVbn",
        "outputId": "1932592c-943f-478c-cbff-4880f8eae0a0"
      },
      "execution_count": null,
      "outputs": [
        {
          "output_type": "stream",
          "name": "stdout",
          "text": [
            "dict_keys(['loss', 'accuracy'])\n"
          ]
        }
      ]
    },
    {
      "cell_type": "code",
      "source": [
        "# 훈련 세트에 대한 손실을 그래프로 그리기\n",
        "import matplotlib.pyplot as plt\n",
        "\n",
        "plt.plot(history.history[\"loss\"])\n",
        "plt.xlabel(\"epoch\")\n",
        "plt.ylabel(\"loss\")\n",
        "plt.show()"
      ],
      "metadata": {
        "colab": {
          "base_uri": "https://localhost:8080/",
          "height": 279
        },
        "id": "K4SLmZ0sreBV",
        "outputId": "1086e13e-992d-44a3-df4a-7ea75c680b76"
      },
      "execution_count": null,
      "outputs": [
        {
          "output_type": "display_data",
          "data": {
            "text/plain": [
              "<Figure size 432x288 with 1 Axes>"
            ],
            "image/png": "[encoded data removed]"
          },
          "metadata": {
            "needs_background": "light"
          }
        }
      ]
    },
    {
      "cell_type": "code",
      "source": [
        "# 훈련 세트에 대한 정확도를 그래프로 그리기\n",
        "plt.plot(history.history[\"accuracy\"])\n",
        "plt.xlabel(\"epoch\")\n",
        "plt.ylabel(\"accuracy\")\n",
        "plt.show()"
      ],
      "metadata": {
        "colab": {
          "base_uri": "https://localhost:8080/",
          "height": 279
        },
        "id": "wOdR0vg_r-c6",
        "outputId": "fc65dbf1-c542-41e5-99c4-76294d101ed6"
      },
      "execution_count": null,
      "outputs": [
        {
          "output_type": "display_data",
          "data": {
            "text/plain": [
              "<Figure size 432x288 with 1 Axes>"
            ],
            "image/png": "[encoded data removed]"
          },
          "metadata": {
            "needs_background": "light"
          }
        }
      ]
    },
    {
      "cell_type": "code",
      "source": [
        "# epoch를 20으로 늘려서 모델을 훈련하고 훈련 세트에 대한 손실 그래프를 그리기\n",
        "model = model_fn()\n",
        "model.compile(loss=\"sparse_categorical_crossentropy\", metrics=\"accuracy\")\n",
        "history = model.fit(train_scaled, train_target, epochs=20, verbose=0)\n",
        "\n",
        "plt.plot(history.history[\"loss\"])\n",
        "plt.xlabel(\"epoch\")\n",
        "plt.ylabel(\"loss\")\n",
        "plt.show()"
      ],
      "metadata": {
        "colab": {
          "base_uri": "https://localhost:8080/",
          "height": 279
        },
        "id": "CxU7u-sOsTA9",
        "outputId": "5c1f260f-21fd-4a04-b724-0c99f1779fd9"
      },
      "execution_count": null,
      "outputs": [
        {
          "output_type": "display_data",
          "data": {
            "text/plain": [
              "<Figure size 432x288 with 1 Axes>"
            ],
            "image/png": "[encoded data removed]"
          },
          "metadata": {
            "needs_background": "light"
          }
        }
      ]
    },
    {
      "cell_type": "markdown",
      "source": [
        "## 검증 손실\n",
        "\n",
        "> 인공 신경망 모델의 과소/과대적합 판단\n",
        "\n",
        "인공 신경망 모델의 과소/과대적합을 판단하기 위해서는 훈련 세트에 대한 정확도와 손실뿐만 아니라, 검증 세트에 대한 정확도와 손실도 확인해야 한다.\n",
        "\n",
        "이러한 작업을 수행하기 위해서 compile() 메서드의 validation_data 매개변수에 검증 세트를 지정하면 History 클래스 객체의 history 딕셔너리에서 훈련 세트에 대한 정확도와 손실과 검증 세트에 대한 정확도와 손실도 확인할 수 있다.\n",
        "\n",
        "이 값들을 이용해서 인공 신경망 모델의 과소/과대적합 여부를 판단할 수 있다."
      ],
      "metadata": {
        "id": "3YmyrcFts6lo"
      }
    },
    {
      "cell_type": "code",
      "source": [
        "model = model_fn()\n",
        "model.compile(loss=\"sparse_categorical_crossentropy\", metrics=\"accuracy\")\n",
        "history = model.fit(\n",
        "    train_scaled, train_target, \n",
        "    epochs=20, \n",
        "    verbose=0, \n",
        "    validation_data=(val_scaled, val_target) # epoch마다 검증 손실을 계산\n",
        ")"
      ],
      "metadata": {
        "id": "kS54xDnVsx6A"
      },
      "execution_count": null,
      "outputs": []
    },
    {
      "cell_type": "code",
      "source": [
        "# 훈련 손실과 검증 손실을 한 그래프에 그려서 과소/과대적합 여부를 판단\n",
        "plt.plot(history.history[\"loss\"])\n",
        "plt.plot(history.history[\"val_loss\"])\n",
        "plt.xlabel(\"epoch\")\n",
        "plt.ylabel(\"loss\")\n",
        "plt.legend([\"train\", \"val\"])\n",
        "plt.show()"
      ],
      "metadata": {
        "colab": {
          "base_uri": "https://localhost:8080/",
          "height": 279
        },
        "id": "-5jEL57AuvoL",
        "outputId": "c9c381b2-dc6d-424b-cb5d-1cc153d351f4"
      },
      "execution_count": null,
      "outputs": [
        {
          "output_type": "display_data",
          "data": {
            "text/plain": [
              "<Figure size 432x288 with 1 Axes>"
            ],
            "image/png": "[encoded data removed]"
          },
          "metadata": {
            "needs_background": "light"
          }
        }
      ]
    },
    {
      "cell_type": "code",
      "source": [
        "# Adam 옵티마이저를 적용\n",
        "model = model_fn()\n",
        "model.compile(optimizer=\"adam\", loss=\"sparse_categorical_crossentropy\", metrics=\"accuracy\")\n",
        "history = model.fit(train_scaled, train_target, epochs=20, verbose=0, validation_data=(val_scaled, val_target))\n",
        "\n",
        "plt.plot(history.history[\"loss\"])\n",
        "plt.plot(history.history[\"val_loss\"])\n",
        "plt.xlabel(\"epoch\")\n",
        "plt.ylabel(\"loss\")\n",
        "plt.legend([\"train\", \"val\"])\n",
        "plt.show()"
      ],
      "metadata": {
        "colab": {
          "base_uri": "https://localhost:8080/",
          "height": 279
        },
        "id": "KUXwXgA6vYJz",
        "outputId": "90ee5b63-5e48-4a3d-a043-5f4a72ee3e40"
      },
      "execution_count": null,
      "outputs": [
        {
          "output_type": "display_data",
          "data": {
            "text/plain": [
              "<Figure size 432x288 with 1 Axes>"
            ],
            "image/png": "[encoded data removed]"
          },
          "metadata": {
            "needs_background": "light"
          }
        }
      ]
    },
    {
      "cell_type": "markdown",
      "source": [
        "## 드롭아웃\n",
        "\n",
        "> 드롭아웃 (dropout)\n",
        "\n",
        "드롭아웃은 인공 신경망 모델의 과대적합을 막기 위한 규제 방법이다.\n",
        "\n",
        "keras.layers 패키지의 Dropout 클래스를 이용해서 드롭아웃 층을 모델에 추가할 수 있다.\n",
        "\n",
        "드롭아웃은 은닉층 뉴런의 출력을 랜덤하게 0으로 만들어서 과대적합을 막는다.\n",
        "\n",
        "드롭아웃이 과대적합을 막는 이유로 크게 두가지 해석이 있는데, 첫번째는 은닉층 뉴런의 출력을 랜덤하게 0으로 만들면 특정 뉴런에 과도하게 의존하는 것을 해소할 수 있으며 모든 입력값에 주의를 기울일 수 있기 때문이고, 두번째는 은닉층 뉴런의 출력을 랜덤하게 0으로 만들면 2개의 모델을 앙상블하는 효과를 가져올 수 있다는 것이다.\n",
        "\n",
        "얼마나 많은 뉴런을 드롭아웃할 것인지는 하이퍼파라미터를 통해서 결정해야 한다.\n",
        "\n",
        "드롭아웃은 모델의 훈련 과정에서만 수행되어야 한다.\n",
        "\n",
        "모델의 평가나 예측 단계에서는 드롭아웃이 수행되서는 안 된다.\n",
        "\n",
        "텐서플로와 케라스는 모델의 평가나 예측 단계에서 자동으로 드롭아웃 층을 무시하도록 구현되어 있다."
      ],
      "metadata": {
        "id": "lkA2OZGQy-vv"
      }
    },
    {
      "cell_type": "code",
      "source": [
        "# 드롭아웃 층을 추가한 모델을 생성\n",
        "model = model_fn(keras.layers.Dropout(0.3)) # 30% 뉴런을 모델 훈련 시 드롭아웃\n",
        "model.summary()"
      ],
      "metadata": {
        "colab": {
          "base_uri": "https://localhost:8080/"
        },
        "id": "2GJJAeLJxa1Q",
        "outputId": "6cce3023-ac28-418d-839b-20926c0229db"
      },
      "execution_count": null,
      "outputs": [
        {
          "output_type": "stream",
          "name": "stdout",
          "text": [
            "Model: \"sequential_4\"\n",
            "_________________________________________________________________\n",
            " Layer (type)                Output Shape              Param #   \n",
            "=================================================================\n",
            " flatten_4 (Flatten)         (None, 784)               0         \n",
            "                                                                 \n",
            " dense_8 (Dense)             (None, 100)               78500     \n",
            "                                                                 \n",
            " dropout (Dropout)           (None, 100)               0         \n",
            "                                                                 \n",
            " dense_9 (Dense)             (None, 10)                1010      \n",
            "                                                                 \n",
            "=================================================================\n",
            "Total params: 79,510\n",
            "Trainable params: 79,510\n",
            "Non-trainable params: 0\n",
            "_________________________________________________________________\n"
          ]
        }
      ]
    },
    {
      "cell_type": "code",
      "source": [
        "model.compile(optimizer=\"adam\", loss=\"sparse_categorical_crossentropy\", metrics=[\"accuracy\"])\n",
        "history = model.fit(\n",
        "    train_scaled, train_target, \n",
        "    epochs=20, \n",
        "    verbose=0, \n",
        "    validation_data=(val_scaled, val_target)\n",
        ")\n",
        "\n",
        "# 훈련 손실과 검증 손실을 그래프로 그리기\n",
        "plt.plot(history.history[\"loss\"])\n",
        "plt.plot(history.history[\"val_loss\"])\n",
        "plt.xlabel(\"epoch\")\n",
        "plt.ylabel(\"loss\")\n",
        "plt.legend([\"train\", \"val\"])\n",
        "plt.show()"
      ],
      "metadata": {
        "colab": {
          "base_uri": "https://localhost:8080/",
          "height": 279
        },
        "id": "x4JB4jg0zFmU",
        "outputId": "b77eb581-0c47-49d1-83d5-380a3b73bc72"
      },
      "execution_count": null,
      "outputs": [
        {
          "output_type": "display_data",
          "data": {
            "text/plain": [
              "<Figure size 432x288 with 1 Axes>"
            ],
            "image/png": "[encoded data removed]"
          },
          "metadata": {
            "needs_background": "light"
          }
        }
      ]
    },
    {
      "cell_type": "markdown",
      "source": [
        "## 모델 저장과 복원\n",
        "\n",
        "위의 결과에서 검증 손실이 10번째 epoch부터 증가하기 시작하기 때문에 epoch를 10로 설정해서 모델을 다시 훈련해야 한다.\n",
        "\n",
        "이렇게 훈련한 모델은 다음에 사용할 수 있도록 저장하고 복원할 수 있다.\n",
        "\n",
        "> 모델 파라미터를 저장하고 복원하기\n",
        "\n",
        "훈련된 모델 파라미터를 저장하고 복원할 수 있다.\n",
        "\n",
        "캐라스 모델은 save_weights() 메서드를 사용해서 모델 파라미터를 파일에 저장할 수 있다.\n",
        "\n",
        "파일의 포맷은 텐서플로의 체크포인트 포맷이지만, 파일의 확장자가 '.h5'일 경우 HDF5 포맷으로 저장한다.\n",
        "\n",
        "또한 load_weights() 메서드를 사용해서 파일에 저장한 모델 파라미터를 복원할 수 있다.\n",
        "\n",
        "이때 주의할 점은 저장할 당시의 모델 구조와 복원 대상의 모델 구조는 정확하게 동일해야 한다.\n",
        "\n",
        "> 모델과 모델 파라미터를 함께 저장하고 복원하기\n",
        "\n",
        "훈련된 모델 파라미터뿐만 아니라 모델 자체도 저장하고 복원할 수 있다.\n",
        "\n",
        "케라스 모델은 save() 메서드를 사용해서 모델 파라미터와 모델을 파일에 저장할 수 있다.\n",
        "\n",
        "파일의 포맷은 텐서플로의 SavedModel 포맷이지만, 파일의 확장자가 '.h5'일 경우 HDF5 포맷으로 저장한다.\n",
        "\n",
        "또한 케라스가 제공하는 load_model() 함수를 사용해서 파일에 저장한 모델 파라미터와 모델을 복원할 수 있다.\n",
        "\n",
        "이때 load_model() 함수는 모델 파라미터 뿐만 아니라 모델 구조와 옵티마이저 상태까지 모두 복원한다.\n",
        "\n",
        "모델의 evaluate() 메서드를 사용하기 위해서는 compile() 메서드를 반드시 실행해야 한다.\n",
        "\n",
        "하지만 load_model() 함수로 복원한 모델은 모델의 모든 정보가 복원되기 때문에 바로 evaluate() 메서드를 사용할 수 있다."
      ],
      "metadata": {
        "id": "3OL8l4K91JD2"
      }
    },
    {
      "cell_type": "code",
      "source": [
        "model = model_fn(keras.layers.Dropout(0.3))\n",
        "model.compile(optimizer=\"adam\", loss=\"sparse_categorical_crossentropy\", metrics=\"accuracy\")\n",
        "history = model.fit(\n",
        "    train_scaled, train_target, \n",
        "    epochs=10, \n",
        "    verbose=0, \n",
        "    validation_data=(val_scaled, val_target)\n",
        ")"
      ],
      "metadata": {
        "id": "IS58j_KPzxNu"
      },
      "execution_count": null,
      "outputs": []
    },
    {
      "cell_type": "code",
      "source": [
        "# 모델 파라미터를 파일에 저장\n",
        "model.save_weights(\"model-weights.h5\")"
      ],
      "metadata": {
        "id": "15ogKQh81qZ1"
      },
      "execution_count": null,
      "outputs": []
    },
    {
      "cell_type": "code",
      "source": [
        "# 모델 파라미터와 모델을 함께 파일에 저장\n",
        "model.save(\"model-whole.h5\")"
      ],
      "metadata": {
        "id": "qBSLDHTU1429"
      },
      "execution_count": null,
      "outputs": []
    },
    {
      "cell_type": "code",
      "source": [
        "# 파일이 제대로 생성되었는지 확인\n",
        "!ls -al *.h5"
      ],
      "metadata": {
        "colab": {
          "base_uri": "https://localhost:8080/"
        },
        "id": "pdOjiEjH2B0w",
        "outputId": "66a4034a-9562-42e7-e575-f349a510ca71"
      },
      "execution_count": null,
      "outputs": [
        {
          "output_type": "stream",
          "name": "stdout",
          "text": [
            "-rw-r--r-- 1 root root 333448 Jan 13 11:06 model-weights.h5\n",
            "-rw-r--r-- 1 root root 982664 Jan 13 11:06 model-whole.h5\n"
          ]
        }
      ]
    },
    {
      "cell_type": "code",
      "source": [
        "# 훈련하지 않은 새로운 모델을 만들고, model-weights.h5 파일에서 훈련된 모델 파라미터를 읽어서 사용\n",
        "model = model_fn(keras.layers.Dropout(0.3))\n",
        "model.load_weights(\"model-weights.h5\")"
      ],
      "metadata": {
        "id": "iJs8X6lz2E-g"
      },
      "execution_count": null,
      "outputs": []
    },
    {
      "cell_type": "code",
      "source": [
        "import numpy as np\n",
        "\n",
        "# 넘파이 argmax() 함수는 배열에서 가장 큰 원소의 인덱스 값을 반환한다.\n",
        "# 검증 세트에는 12000개의 샘플들이 존재하기 때문에 predict() 메서드가 반환하는 넘파이 배열의 크기는 (12000, 10) 이다.\n",
        "# axis=1 매개변수를 지정하면 열을 따라서 각 행의 최대값의 인덱스를 반환한다.\n",
        "val_labels = np.argmax(model.predict(val_scaled), axis=1)\n",
        "print(val_labels.shape)\n",
        "\n",
        "# 두 넘파이 배열의 각 원소를 브로드캐스팅으로 비교해서 같으면 1, 다르면 0\n",
        "print(np.mean(val_labels == val_target))"
      ],
      "metadata": {
        "colab": {
          "base_uri": "https://localhost:8080/"
        },
        "id": "FGt-GpfI2h1-",
        "outputId": "3870d169-7503-4410-dcd3-b126bd039173"
      },
      "execution_count": null,
      "outputs": [
        {
          "output_type": "stream",
          "name": "stdout",
          "text": [
            "375/375 [==============================] - 1s 1ms/step\n",
            "(12000,)\n",
            "0.88\n"
          ]
        }
      ]
    },
    {
      "cell_type": "code",
      "source": [
        "# 모델 전체를 파일에서 읽은 다음 검증 세트의 정확도를 출력\n",
        "model = keras.models.load_model(\"model-whole.h5\")\n",
        "model.evaluate(val_scaled, val_target)"
      ],
      "metadata": {
        "colab": {
          "base_uri": "https://localhost:8080/"
        },
        "id": "T4lBeFdd4tGu",
        "outputId": "cce0437c-fb6c-4956-d8d9-608d3ce4dbe0"
      },
      "execution_count": null,
      "outputs": [
        {
          "output_type": "stream",
          "name": "stdout",
          "text": [
            "375/375 [==============================] - 1s 2ms/step - loss: 0.3319 - accuracy: 0.8800\n"
          ]
        },
        {
          "output_type": "execute_result",
          "data": {
            "text/plain": [
              "[0.33190813660621643, 0.8799999952316284]"
            ]
          },
          "metadata": {},
          "execution_count": 23
        }
      ]
    },
    {
      "cell_type": "markdown",
      "source": [
        "## 콜백\n",
        "\n",
        "> 콜백 (callback)\n",
        "\n",
        "콜백은 딥러닝 모델 훈련 중 어떠한 작업을 수행할 수 있게 하는 객체이다.\n",
        "\n",
        "keras.callbacks 패키지 아래의 클래스들로 콜백 객체를 사용할 수 있다.\n",
        "\n",
        "> ModelCheckpoint 콜백 클래스\n",
        "\n",
        "모델을 훈련할 때 ModelCheckpoint 콜백을 사용하면 기본적으로 각 epoch마다 모델을 파일에 저장한다.\n",
        "\n",
        "save_best_only 매개변수를 True로 지정하면 모델을 훈련할 때 가장 낮은 검증 점수를 기록한 모델만 저장하게 된다.\n",
        "\n",
        "하지만 모든 epoch를 전부 수행하기 때문에 시간이 오래 걸릴 수 있다.\n",
        "\n",
        "따라서 컴퓨터의 자원과 시간을 절약하기 위해서 '조기 종료'를 사용할 수 있다. \n",
        "\n",
        "> EarlyStopping 콜백 클래스\n",
        "\n",
        "조기 종료(early stopping)는 모델의 과대적합이 발생하기 전에 훈련을 멈추는 것이다.\n",
        "\n",
        "조기 종료를 통해서 모델의 과대적합을 막기 때문에 모델 규제의 한 종류로 볼 수 있다.\n",
        "\n",
        "EarlyStopping 콜백 클래스를 사용해서 훈련 조기 종료를 할 수 있다.\n",
        "\n",
        "patience 매개변수는 모델의 검증 점수가 상승하는 것을 참을 epoch 횟수이다.\n",
        "\n",
        "만약 patience=2로 지정한다면, 검증 점수가 연속으로 2번 상승하면 훈련을 조기 종료 한다.\n",
        "\n",
        "restore_best_weights 매개변수를 True로 지정하면 가장 낮은 검증 점수를 기록한 모델의 파라미터로 되돌리게 된다.\n",
        "\n",
        "ModelCheckpoint 콜백과 EarlyStopping 콜백은 fit() 메서드의 callbacks 매개변수에 리스트로 지정하면 된다.\n",
        "\n",
        "두 콜백을 사용하면 모델 훈련 시 가장 낮은 검증 점수를 기록한 모델을 얻을 수 있으며, 또한 컴퓨팅 자원과 시간을 절약할 수 있다."
      ],
      "metadata": {
        "id": "cxQLDE5J9OSz"
      }
    },
    {
      "cell_type": "code",
      "source": [
        "model = model_fn(keras.layers.Dropout(0.3))\n",
        "model.compile(\n",
        "    optimizer=\"adam\", \n",
        "    loss=\"sparse_categorical_crossentropy\", \n",
        "    metrics=\"accuracy\"\n",
        ")\n",
        "\n",
        "# ModelCheckpoint 콜백 객체 생성\n",
        "checkpoint_cb = keras.callbacks.ModelCheckpoint(\"best-model.h5\", save_best_only=True)\n",
        "\n",
        "model.fit(\n",
        "    train_scaled, train_target, \n",
        "    epochs=20, \n",
        "    verbose=0, \n",
        "    validation_data=(val_scaled, val_target), \n",
        "    callbacks=[checkpoint_cb]\n",
        ")"
      ],
      "metadata": {
        "id": "yufw5RbD5Ca7",
        "colab": {
          "base_uri": "https://localhost:8080/"
        },
        "outputId": "a299373e-8708-4502-92a4-8a06f61cb276"
      },
      "execution_count": null,
      "outputs": [
        {
          "output_type": "execute_result",
          "data": {
            "text/plain": [
              "<keras.callbacks.History at 0x7f70e01d0940>"
            ]
          },
          "metadata": {},
          "execution_count": 24
        }
      ]
    },
    {
      "cell_type": "code",
      "source": [
        "# 모델을 복원하고 검증 세트에 대해서 평가\n",
        "model = keras.models.load_model(\"best-model.h5\")\n",
        "model.evaluate(val_scaled, val_target)"
      ],
      "metadata": {
        "colab": {
          "base_uri": "https://localhost:8080/"
        },
        "id": "xJ6FU1TWPYhV",
        "outputId": "2b289a80-29a8-4545-89c5-98fd1d9e484d"
      },
      "execution_count": null,
      "outputs": [
        {
          "output_type": "stream",
          "name": "stdout",
          "text": [
            "375/375 [==============================] - 1s 2ms/step - loss: 0.3158 - accuracy: 0.8882\n"
          ]
        },
        {
          "output_type": "execute_result",
          "data": {
            "text/plain": [
              "[0.3158285617828369, 0.8882499933242798]"
            ]
          },
          "metadata": {},
          "execution_count": 25
        }
      ]
    },
    {
      "cell_type": "code",
      "source": [
        "model = model_fn(keras.layers.Dropout(0.3))\n",
        "model.compile(optimizer=\"adam\", loss=\"sparse_categorical_crossentropy\", metrics=\"accuracy\")\n",
        "\n",
        "# ModelCheckpoint 콜백 객체 생성\n",
        "checkpoint_cb = keras.callbacks.ModelCheckpoint(\"best-model.h5\", save_best_only=True)\n",
        "# EarlyStopping 콜백 객체 생성\n",
        "early_stopping_cb = keras.callbacks.EarlyStopping(patience=2, restore_best_weights=True)\n",
        "\n",
        "history = model.fit(\n",
        "    train_scaled, train_target, \n",
        "    epochs=20,\n",
        "    verbose=0, \n",
        "    validation_data=(val_scaled, val_target), \n",
        "    callbacks=[checkpoint_cb, early_stopping_cb]\n",
        ")"
      ],
      "metadata": {
        "id": "PszlUTLqPzIw"
      },
      "execution_count": null,
      "outputs": []
    },
    {
      "cell_type": "code",
      "source": [
        "# 몇 번째 epoch에서 조기 종료를 했는지 확인\n",
        "# 12, 즉 13번째 epoch에서 조기 종료 했기 때문에 11번째 epoch의 모델이 저장된다.\n",
        "print(early_stopping_cb.stopped_epoch)"
      ],
      "metadata": {
        "colab": {
          "base_uri": "https://localhost:8080/"
        },
        "id": "V8tFBrqtRSCX",
        "outputId": "00b48352-c42f-4d3f-f2c2-33241a034ceb"
      },
      "execution_count": null,
      "outputs": [
        {
          "output_type": "stream",
          "name": "stdout",
          "text": [
            "12\n"
          ]
        }
      ]
    },
    {
      "cell_type": "code",
      "source": [
        "# 훈련 손실과 검증 손실을 그래프로 그리기\n",
        "plt.plot(history.history[\"loss\"])\n",
        "plt.plot(history.history[\"val_loss\"])\n",
        "plt.xlabel(\"epoch\")\n",
        "plt.ylabel(\"loss\")\n",
        "plt.legend([\"train\", \"val\"])\n",
        "plt.show()"
      ],
      "metadata": {
        "colab": {
          "base_uri": "https://localhost:8080/",
          "height": 279
        },
        "id": "NDfudBivRls5",
        "outputId": "75daf9a6-3607-4bc1-a258-695ae0b5dadc"
      },
      "execution_count": null,
      "outputs": [
        {
          "output_type": "display_data",
          "data": {
            "text/plain": [
              "<Figure size 432x288 with 1 Axes>"
            ],
            "image/png": "[encoded data removed]"
          },
          "metadata": {
            "needs_background": "light"
          }
        }
      ]
    },
    {
      "cell_type": "code",
      "source": [
        "model.evaluate(val_scaled, val_target)"
      ],
      "metadata": {
        "colab": {
          "base_uri": "https://localhost:8080/"
        },
        "id": "bASQCerpR3Be",
        "outputId": "369a466a-565d-4faf-a09c-0864dcdf661d"
      },
      "execution_count": null,
      "outputs": [
        {
          "output_type": "stream",
          "name": "stdout",
          "text": [
            "375/375 [==============================] - 1s 2ms/step - loss: 0.3216 - accuracy: 0.8789\n"
          ]
        },
        {
          "output_type": "execute_result",
          "data": {
            "text/plain": [
              "[0.32155677676200867, 0.8789166808128357]"
            ]
          },
          "metadata": {},
          "execution_count": 29
        }
      ]
    }
  ]
}