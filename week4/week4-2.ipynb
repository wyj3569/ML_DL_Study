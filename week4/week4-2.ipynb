{
 "cells": [
  {
   "attachments": {},
   "cell_type": "markdown",
   "metadata": {},
   "source": [
    "# 확률적 경사 하강법 (점진적으로 학습하기)\n",
    "\n",
    "> 생선의 길이, 높이, 두께, 대각선 길이, 무게를 사용해서 생선 종류 예측하기\n",
    "> 점진적 학습 : 기존에 학습한 모델을 버리지 않고 새로운 데이터에 대해서 조금씩 더 학습하는 방법\n",
    "\n",
    "* 생선의 특성값들을 이용해서 각 클래스별로 확률을 계산하고 생선의 종류를 분류하는 문제이다.\n",
    "* 사용한 모델 : 확률적 경사 하강법 분류 모델"
   ]
  }
 ],
 "metadata": {
  "kernelspec": {
   "display_name": "mldl",
   "language": "python",
   "name": "python3"
  },
  "language_info": {
   "name": "python",
   "version": "3.8.15 (default, Nov 24 2022, 08:57:44) \n[Clang 14.0.6 ]"
  },
  "orig_nbformat": 4,
  "vscode": {
   "interpreter": {
    "hash": "abf4bc6a966c80b524cf7ad421bbc558dae5862299414dfe6cbe2f10e982ac8b"
   }
  }
 },
 "nbformat": 4,
 "nbformat_minor": 2
}
